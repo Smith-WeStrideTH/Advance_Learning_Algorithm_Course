{
 "cells": [
  {
   "cell_type": "markdown",
   "metadata": {
    "tags": []
   },
   "source": [
    "# \"ห้องปฏิบัติการเสริม - เซลล์ประสาทและชั้น\n",
    "ในห้องปฏิบัติการนี้ เราจะสำรวจการทำงานภายในของเซลล์ประสาท/หน่วย และชั้น โดยเฉพาะอย่างยิ่ง ห้องปฏิบัติการจะเปรียบเทียบกับโมเดลที่คุณได้เรียนรู้ในหลักสูตร 1 ซึ่งเป็นโมเดลการถดถอย/เชิงเส้นและโมเดลโลจิสติก ห้องปฏิบัติการจะแนะนำ TensorFlow และแสดงให้เห็นว่าโมเดลเหล่านี้ถูกนำไปใช้ในกรอบงานอย่างไร\"\n",
    "<figure>\n",
    "   <img src=\"./images/C2_W1_NeuronsAndLayers_v1.png\"  style=\"width:540px;height:200px;\" >\n",
    "</figure>\n"
   ]
  },
  {
   "cell_type": "markdown",
   "metadata": {},
   "source": [
    "## Packages\n",
    "**Tensorflow และ Keras**  \n",
    "Tensorflow เป็นแพ็คเกจการเรียนรู้ของเครื่องที่พัฒนาโดย Google ในปี 2019 Google ได้รวม Keras เข้ากับ Tensorflow และเปิดตัว Tensorflow 2.0 Keras เป็นเฟรมเวิร์กที่พัฒนาโดย François Chollet อย่างอิสระ ซึ่งสร้างอินเทอร์เฟซแบบเลเยอร์ที่เรียบง่ายสำหรับ Tensorflow หลักสูตรนี้จะใช้อินเทอร์เฟซ Keras\"\n",
    "\n"
   ]
  },
  {
   "cell_type": "code",
   "execution_count": null,
   "metadata": {},
   "outputs": [],
   "source": [
    "from google.colab import output\n",
    "output.enable_custom_widget_manager()\n",
    "try:\n",
    "  %matplotlib widget\n",
    "  print(\"widget is already installed\")\n",
    "except:\n",
    "  print(\"widget is not been installed, install now..\")\n",
    "  !pip install ipympl"
   ]
  },
  {
   "cell_type": "code",
   "execution_count": null,
   "metadata": {},
   "outputs": [],
   "source": [
    "\n",
    "import requests\n",
    "from pathlib import Path\n",
    "\n",
    "url = 'https://raw.githubusercontent.com/Smith-WeStrideTH/Advance_Learning_Algorithm_Course/refs/heads/main/work/deeplearning.mplstyle'\n",
    "url2 = 'https://raw.githubusercontent.com/Smith-WeStrideTH/Advance_Learning_Algorithm_Course/refs/heads/main/work/lab_utils_common.py'\n",
    "url3 = 'https://raw.githubusercontent.com/Smith-WeStrideTH/Advance_Learning_Algorithm_Course/refs/heads/main/work/lab_neurons_utils.py'\n",
    "\n",
    "response = requests.get(url)\n",
    "with open('deeplearning.mplstyle', 'wb') as f:\n",
    "  f.write(response.content)\n",
    "\n",
    "response = requests.get(url2)\n",
    "with open('lab_utils_common.py', 'wb') as f:\n",
    "  f.write(response.content)\n",
    "\n",
    "response = requests.get(url3)\n",
    "with open('lab_neurons_utils.py', 'wb') as f:\n",
    "  f.write(response.content)"
   ]
  },
  {
   "cell_type": "code",
   "execution_count": null,
   "metadata": {},
   "outputs": [],
   "source": [
    "import numpy as np\n",
    "import matplotlib.pyplot as plt\n",
    "import tensorflow as tf\n",
    "from tensorflow.keras.layers import Dense, Input\n",
    "from tensorflow.keras import Sequential\n",
    "from tensorflow.keras.losses import MeanSquaredError, BinaryCrossentropy\n",
    "from tensorflow.keras.activations import sigmoid\n",
    "from lab_utils_common import dlc\n",
    "from lab_neurons_utils import plt_prob_1d, sigmoidnp, plt_linear, plt_logistic\n",
    "plt.style.use('./deeplearning.mplstyle')\n",
    "import logging\n",
    "logging.getLogger(\"tensorflow\").setLevel(logging.ERROR)\n",
    "tf.autograph.set_verbosity(0)"
   ]
  },
  {
   "cell_type": "markdown",
   "metadata": {},
   "source": [
    "## นิวรอนโดยไม่มีการกระตุ้น - การถดถอย/โมเดลเชิงเส้น"
   ]
  },
  {
   "cell_type": "markdown",
   "metadata": {
    "tags": []
   },
   "source": [
    "### ชุดข้อมูล\n",
    "เราจะใช้ชุดข้อมูลตัวอย่างจากหลักสูตรแรกในการวิเคราะห์การถดถอยเชิงเส้นของราคาบ้าน"
   ]
  },
  {
   "cell_type": "code",
   "execution_count": null,
   "metadata": {
    "tags": []
   },
   "outputs": [],
   "source": [
    "X_train = np.array([[1.0], [2.0]], dtype=np.float32)           #(size in 1000 square feet)\n",
    "Y_train = np.array([[300.0], [500.0]], dtype=np.float32)       #(price in 1000s of dollars)\n",
    "\n",
    "fig, ax = plt.subplots(1,1)\n",
    "ax.scatter(X_train, Y_train, marker='x', c='r', label=\"Data Points\")\n",
    "ax.legend( fontsize='xx-large')\n",
    "ax.set_ylabel('Price (in 1000s of dollars)', fontsize='xx-large')\n",
    "ax.set_xlabel('Size (1000 sqft)', fontsize='xx-large')\n",
    "plt.show()"
   ]
  },
  {
   "cell_type": "markdown",
   "metadata": {},
   "source": [
    "### การถดถอย/โมเดลเชิงเส้น\n",
    "ฟังก์ชันที่ดำเนินการโดยนิวรอนที่ไม่มีการกระตุ้นนั้นเหมือนกับในหลักสูตรที่ 1 ซึ่งเป็นการถดถอยเชิงเส้น:\n",
    "$$ f_{\\mathbf{w},b}(x^{(i)}) = \\mathbf{w}\\cdot x^{(i)} + b \\tag{1}$$\n",
    "\n"
   ]
  },
  {
   "cell_type": "markdown",
   "metadata": {},
   "source": [
    "เราสามารถกำหนดชั้น (layer) ที่มีหนึ่งนิวรอนหรือหน่วย (unit) และเปรียบเทียบกับฟังก์ชันการถดถอยเชิงเส้นที่คุ้นเคย"
   ]
  },
  {
   "cell_type": "code",
   "execution_count": null,
   "metadata": {},
   "outputs": [],
   "source": [
    "linear_layer = tf.keras.layers.Dense(units=1, activation = 'linear', )"
   ]
  },
  {
   "cell_type": "markdown",
   "metadata": {},
   "source": [
    "Let's examine the weights."
   ]
  },
  {
   "cell_type": "code",
   "execution_count": null,
   "metadata": {},
   "outputs": [],
   "source": [
    "linear_layer.get_weights()"
   ]
  },
  {
   "cell_type": "markdown",
   "metadata": {},
   "source": [
    "ยังไม่มีน้ำหนักเนื่องจากน้ำหนักยังไม่ได้ถูกสร้างขึ้น มาลองใช้โมเดลกับตัวอย่างหนึ่งใน  `X_train`. เพื่อกระตุ้นการสร้างน้ำหนักกัน โปรดทราบว่าอินพุตของเลเยอร์ต้องเป็น 2 มิติ ดังนั้นเราจะต้องปรับรูปร่างของมัน"
   ]
  },
  {
   "cell_type": "code",
   "execution_count": null,
   "metadata": {},
   "outputs": [],
   "source": [
    "a1 = linear_layer(X_train[0].reshape(1,1))\n",
    "print(a1)"
   ]
  },
  {
   "cell_type": "markdown",
   "metadata": {},
   "source": [
    "ผลลัพธ์ที่ได้คือเทนเซอร์ (ชื่ออื่นของอาร์เรย์) ที่มีรูปร่าง (1,1) หรือหนึ่งรายการ ตอนนี้เรามาดูน้ำหนักและไบแอส น้ำหนักเหล่านี้ถูกเริ่มต้นแบบสุ่มเป็นตัวเลขขนาดเล็ก และไบแอสเริ่มต้นเป็นศูนย์"
   ]
  },
  {
   "cell_type": "code",
   "execution_count": null,
   "metadata": {},
   "outputs": [],
   "source": [
    "w, b= linear_layer.get_weights()\n",
    "print(f\"w = {w}, b={b}\")"
   ]
  },
  {
   "cell_type": "markdown",
   "metadata": {},
   "source": [
    "โมเดลการถดถอยเชิงเส้น (1) ที่มีฟีเจอร์อินพุตเพียงตัวเดียวจะมีน้ำหนักและค่าบากเพียงตัวเดียว ซึ่งตรงกับมิติของ`linear_layer` ของเราข้างต้น  \n",
    "\n",
    "น้ำหนักจะถูกเริ่มต้นด้วยค่าสุ่ม ดังนั้นเราจึงตั้งค่าเหล่านี้ให้เป็นค่าที่รู้จักกัน"
   ]
  },
  {
   "cell_type": "code",
   "execution_count": null,
   "metadata": {},
   "outputs": [],
   "source": [
    "set_w = np.array([[200]])\n",
    "set_b = np.array([100])\n",
    "\n",
    "# set_weights takes a list of numpy arrays\n",
    "linear_layer.set_weights([set_w, set_b])\n",
    "print(linear_layer.get_weights())"
   ]
  },
  {
   "cell_type": "markdown",
   "metadata": {},
   "source": [
    "มาเปรียบเทียบสมการ (1) กับผลลัพธ์ของเลเยอร์กัน"
   ]
  },
  {
   "cell_type": "code",
   "execution_count": null,
   "metadata": {},
   "outputs": [],
   "source": [
    "a1 = linear_layer(X_train[0].reshape(1,1))\n",
    "print(a1)\n",
    "alin = np.dot(set_w,X_train[0].reshape(1,1)) + set_b\n",
    "print(alin)"
   ]
  },
  {
   "cell_type": "markdown",
   "metadata": {},
   "source": [
    "พวกมันสร้างค่าเดียวกัน!\n",
    "ตอนนี้ เราสามารถใช้เลเยอร์เชิงเส้นของเราเพื่อทำการคาดการณ์เกี่ยวกับข้อมูลการฝึกของเราได้"
   ]
  },
  {
   "cell_type": "code",
   "execution_count": null,
   "metadata": {},
   "outputs": [],
   "source": [
    "prediction_tf = linear_layer(X_train)\n",
    "prediction_np = np.dot( X_train, set_w) + set_b"
   ]
  },
  {
   "cell_type": "code",
   "execution_count": null,
   "metadata": {},
   "outputs": [],
   "source": [
    "plt_linear(X_train, Y_train, prediction_tf, prediction_np)"
   ]
  },
  {
   "cell_type": "markdown",
   "metadata": {},
   "source": [
    "## Neuron with Sigmoid activation\n",
    "นิวรอนที่มีการกระตุ้นซิกมอยด์ (Neuron with Sigmoid activation) เหมือนกับใน Course 1, logistic  regression:\n",
    "$$ f_{\\mathbf{w},b}(x^{(i)}) = g(\\mathbf{w}x^{(i)} + b) \\tag{2}$$\n",
    "โดยที่ $$g(x) = sigmoid(x)$$ \n",
    "\n",
    "มาตั้งค่า $w$ และ $b$ เป็นค่าที่ทราบและตรวจสอบโมเดลกัน"
   ]
  },
  {
   "cell_type": "markdown",
   "metadata": {
    "tags": []
   },
   "source": [
    "### ชุดข้อมูล\n",
    "เราจะใช้ ชุดข้อมูล จากหลักสูตรที่ 1 เพื่อฝึกโมเดล Logistic Regression"
   ]
  },
  {
   "cell_type": "code",
   "execution_count": null,
   "metadata": {},
   "outputs": [],
   "source": [
    "X_train = np.array([0., 1, 2, 3, 4, 5], dtype=np.float32).reshape(-1,1)  # 2-D Matrix\n",
    "Y_train = np.array([0,  0, 0, 1, 1, 1], dtype=np.float32).reshape(-1,1)  # 2-D Matrix"
   ]
  },
  {
   "cell_type": "code",
   "execution_count": null,
   "metadata": {},
   "outputs": [],
   "source": [
    "pos = Y_train == 1\n",
    "neg = Y_train == 0\n",
    "\n",
    "fig,ax = plt.subplots(1,1,figsize=(4,3))\n",
    "ax.scatter(X_train[pos], Y_train[pos], marker='x', s=80, c = 'red', label=\"y=1\")\n",
    "ax.scatter(X_train[neg], Y_train[neg], marker='o', s=100, label=\"y=0\", facecolors='none', \n",
    "              edgecolors=dlc[\"dlblue\"],lw=3)\n",
    "\n",
    "ax.set_ylim(-0.08,1.1)\n",
    "ax.set_ylabel('y', fontsize=12)\n",
    "ax.set_xlabel('x', fontsize=12)\n",
    "ax.set_title('one variable plot')\n",
    "ax.legend(fontsize=12)\n",
    "plt.show()"
   ]
  },
  {
   "cell_type": "markdown",
   "metadata": {},
   "source": [
    "### Logistic Neuron\n",
    "เราสามารถนำฟังก์ชันการกระตุ้นซิกมอยด์ (sigmoid activation) มาใช้กับ \"เซลล์ประสาทโลจิสติก\" (logistic neuron) ได้ ฟังก์ชันของเซลล์ประสาทนี้จะถูกอธิบายโดยสมการ (2) ด้านบน\n",
    "\n",
    "ส่วนนี้จะสร้างโมเดล Tensorflow ที่ประกอบด้วยเลเยอร์โลจิสติกของเรา เพื่อแสดงวิธีการสร้างโมเดลแบบอื่น Tensorflow มักใช้ในการสร้างโมเดลแบบหลายชั้น และ [Sequential](https://keras.io/guides/sequential_model/) โมเดลนี้เป็นวิธีการที่สะดวกในการสร้างโมเดลเหล่านี้"
   ]
  },
  {
   "cell_type": "code",
   "execution_count": null,
   "metadata": {
    "tags": []
   },
   "outputs": [],
   "source": [
    "model = Sequential(\n",
    "    [\n",
    "        tf.keras.layers.Dense(1, input_dim=1,  activation = 'sigmoid', name='L1')\n",
    "    ]\n",
    ")"
   ]
  },
  {
   "cell_type": "markdown",
   "metadata": {},
   "source": [
    "`model.summary()` แสดงเลเยอร์และจำนวนพารามิเตอร์ในโมเดล มีเลเยอร์เดียวในโมเดลนี้ และเลเยอร์นั้นมีหน่วยเดียว หน่วยนี้มีพารามิเตอร์สองตัว $w$ และ $b$."
   ]
  },
  {
   "cell_type": "code",
   "execution_count": null,
   "metadata": {},
   "outputs": [],
   "source": [
    "model.summary()"
   ]
  },
  {
   "cell_type": "code",
   "execution_count": null,
   "metadata": {},
   "outputs": [],
   "source": [
    "logistic_layer = model.get_layer('L1')\n",
    "w,b = logistic_layer.get_weights()\n",
    "print(w,b)\n",
    "print(w.shape,b.shape)"
   ]
  },
  {
   "cell_type": "markdown",
   "metadata": {},
   "source": [
    "มาตั้งค่าน้ำหนักและความเอนเอียงเป็นค่าที่ทราบกันดี"
   ]
  },
  {
   "cell_type": "code",
   "execution_count": null,
   "metadata": {},
   "outputs": [],
   "source": [
    "set_w = np.array([[2]])\n",
    "set_b = np.array([-4.5])\n",
    "# set_weights takes a list of numpy arrays\n",
    "logistic_layer.set_weights([set_w, set_b])\n",
    "print(logistic_layer.get_weights())"
   ]
  },
  {
   "cell_type": "markdown",
   "metadata": {},
   "source": [
    "มาเปรียบเทียบสมการ (2) กับผลลัพธ์ของเลเยอร์กัน"
   ]
  },
  {
   "cell_type": "code",
   "execution_count": null,
   "metadata": {},
   "outputs": [],
   "source": [
    "a1 = model.predict(X_train[0].reshape(1,1))\n",
    "print(a1)\n",
    "alog = sigmoidnp(np.dot(set_w,X_train[0].reshape(1,1)) + set_b)\n",
    "print(alog)"
   ]
  },
  {
   "cell_type": "markdown",
   "metadata": {},
   "source": [
    "พวกมันสร้างค่าเดียวกัน!ตอนนี้ เราสามารถใช้เลเยอร์โลจิสติกและโมเดล NumPy ของเราเพื่อทำการทำนายบนข้อมูลการฝึกของเราได้"
   ]
  },
  {
   "cell_type": "code",
   "execution_count": null,
   "metadata": {},
   "outputs": [],
   "source": [
    "plt_logistic(X_train, Y_train, model, set_w, set_b, pos, neg)"
   ]
  },
  {
   "cell_type": "markdown",
   "metadata": {},
   "source": [
    "การแรเงาด้านบนสะท้อนผลลัพธ์ของฟังก์ชันซิกมอยด์ (sigmoid) ซึ่งมีค่าตั้งแต่ 0 ถึง 1"
   ]
  },
  {
   "cell_type": "markdown",
   "metadata": {},
   "source": [
    "# ยินดีด้วย!\n",
    "คุณได้สร้างเครือข่ายประสาทเทียมที่ง่ายมากและได้สำรวจความคล้ายคลึงระหว่างเซลล์ประสาทกับการถดถอยเชิงเส้นและการถดถอยโลจิสติกจากหลักสูตร 1"
   ]
  }
 ],
 "metadata": {
  "kernelspec": {
   "display_name": "Python 3",
   "language": "python",
   "name": "python3"
  },
  "language_info": {
   "codemirror_mode": {
    "name": "ipython",
    "version": 3
   },
   "file_extension": ".py",
   "mimetype": "text/x-python",
   "name": "python",
   "nbconvert_exporter": "python",
   "pygments_lexer": "ipython3",
   "version": "3.7.6"
  }
 },
 "nbformat": 4,
 "nbformat_minor": 4
}
