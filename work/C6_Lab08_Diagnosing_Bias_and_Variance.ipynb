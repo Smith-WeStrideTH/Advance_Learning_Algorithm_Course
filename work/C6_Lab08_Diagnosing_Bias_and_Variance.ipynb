{
 "cells": [
  {
   "cell_type": "markdown",
   "metadata": {
    "id": "FvYDy9apGRlt"
   },
   "source": [
    "# Optional Lab: การวินิจฉัยอคติและความแปรปรวน\n",
    "\n",
    "ในห้องปฏิบัติการเสริมก่อนหน้านี้ คุณได้เห็นวิธีการประเมินประสิทธิภาพของอัลกอริทึมการเรียนรู้โดยการวัดข้อผิดพลาดในการฝึกและการตรวจสอบข้าม ด้วยค่าเหล่านี้ คุณสามารถหาปริมาณว่าโมเดลกำลังทำได้ดีแค่ไหน และช่วยให้คุณตัดสินใจว่าจะใช้แบบใดสำหรับแอปพลิเคชันที่กำหนด ในห้องปฏิบัติการนี้ คุณจะสร้างกระบวนการนี้และสำรวจเคล็ดลับบางอย่างเพื่อปรับปรุงประสิทธิภาพของโมเดลของคุณ ดังที่ปรากฏว่า ข้อผิดพลาดในการฝึกและการตรวจสอบข้ามสามารถบอกคุณได้ว่าจะลองทำอะไรต่อไปเพื่อปรับปรุงโมเดลของคุณ โดยเฉพาะอย่างยิ่งจะแสดงให้เห็นว่าคุณมีปัญหาอคติสูง (underfitting) หรือความแปรปรวนสูง (overfitting)\n",
    "\n",
    "สไลด์การบรรยายที่แสดงด้านล่างนี้ให้ตัวอย่าง:\n",
    "\n",
    "<img src='images/C2_W3_BiasVariance_v1.png' width=75%>\n",
    "\n",
    "รูปทางซ้ายสุดแสดงปัญหาอคติสูงซึ่งโมเดลไม่จับรูปแบบในข้อมูลการฝึก ดังนั้นคุณจะมีข้อผิดพลาดในการฝึกและการตรวจสอบข้ามสูง รูปทางขวาสุดแสดงปัญหาความแปรปรวนสูงที่โมเดลได้ overfit ชุดข้อมูลการฝึก ดังนั้น แม้ว่าจะมีข้อผิดพลาดในการฝึกต่ำ แต่ก็จะทำงานได้ไม่ดีกับตัวอย่างใหม่ ซึ่งแสดงให้เห็นโดยข้อผิดพลาดในการตรวจสอบข้ามสูง โมเดลในอุดมคติจะเป็นรูปในกลาง ซึ่งเรียนรู้จากชุดข้อมูลการฝึกอย่างสำเร็จและยังสรุปได้ดีกับข้อมูลที่ไม่เคยเห็น การบรรยายให้เคล็ดลับบางอย่างเกี่ยวกับสิ่งที่ต้องทำต่อไปเพื่อให้บรรลุถึงโมเดลที่ \"เหมาะสม\" นี้\n",
    "\n",
    "เพื่อแก้ไขปัญหาอคติสูง คุณสามารถ:\n",
    "\n",
    "* ลองเพิ่มคุณสมบัติพหุนาม\n",
    "* ลองรับคุณสมบัติเพิ่มเติม\n",
    "* ลองลดพารามิเตอร์การควบคุม\n",
    "\n",
    "เพื่อแก้ไขปัญหาความแปรปรวนสูง คุณสามารถ:\n",
    "\n",
    "* ลองเพิ่มพารามิเตอร์การควบคุม\n",
    "\n",
    "* ลองใช้ชุดคุณสมบัติที่เล็กลง\n",
    "* รับตัวอย่างการฝึกเพิ่มเติม\n",
    "\n",
    "\n",
    "คุณจะลองเคล็ดลับทั้งหมดนี้ในห้องปฏิบัติการนี้ มาเริ่มกัน!\"\n",
    "\n"
   ]
  },
  {
   "cell_type": "markdown",
   "metadata": {},
   "source": [
    "## การกำหนดระดับประสิทธิภาพพื้นฐาน\n",
    "\n",
    "ก่อนที่คุณจะวินิจฉัยโมเดลสำหรับอคติสูงหรือความแปรปรวนสูง โดยทั่วไปแล้วจะเป็นประโยชน์ในการมีแนวคิดเกี่ยวกับระดับข้อผิดพลาดที่คุณสามารถบรรลุได้อย่างสมเหตุสมผล ตามที่กล่าวไว้ในชั้นเรียน คุณสามารถใช้สิ่งใดสิ่งหนึ่งต่อไปนี้เพื่อตั้งระดับประสิทธิภาพพื้นฐาน\n",
    "\n",
    "* human level performance (ประสิทธิภาพระดับมนุษย์)\n",
    "* competing algorithm's performance (ประสิทธิภาพของอัลกอริทึมการแข่งขัน)\n",
    "* guess based on experience (การเดาจากประสบการณ์)\n",
    "\n",
    "ข้อมูลในโลกแห่งความจริงอาจมีเสียงรบกวนมาก และมักจะไม่สามารถบรรลุข้อผิดพลาด 0% ได้ ตัวอย่างเช่น คุณอาจคิดว่าคุณมีปัญหาอคติสูงเพราะคุณกำลังได้รับข้อผิดพลาดในการฝึกอบรม 10% และการตรวจสอบข้าม 15% ในแอปพลิเคชันวิสัยทัศน์คอมพิวเตอร์ อย่างไรก็ตาม คุณพบในภายหลังว่าแม้แต่มนุษย์ก็ไม่สามารถทำได้ดีกว่าข้อผิดพลาด 10% หากคุณพิจารณาว่านี่เป็นระดับพื้นฐาน ตอนนี้คุณจะมีปัญหาความแปรปรวนสูงแทน เพราะคุณได้ให้ความสำคัญกับการลดช่องว่างระหว่างการตรวจสอบข้ามและข้อผิดพลาดในการฝึกอบรม\n",
    "\n",
    "ด้วยสิ่งนี้ในใจ มาเริ่มสำรวจเทคนิคเพื่อแก้ไขปัญหาเหล่านี้กัน\n",
    "\n"
   ]
  },
  {
   "cell_type": "markdown",
   "metadata": {
    "id": "jj1P1kTmGRlv"
   },
   "source": [
    "## การติดตั้งและเตรียมห้องปฏิบัติการ\n",
    "\n",
    "นอกเหนือจากตัวถดถอยเชิงเส้น  [linear regressors](https://scikit-learn.org/stable/modules/classes.html#classical-linear-regressors)  สองสามตัวจาก scikit-learn ฟังก์ชันอื่นๆ ทั้งหมดที่ใช้ในห้องปฏิบัติการนี้จะอยู่ในไฟล์ `utils.py` นอกเหนือจาก Jupyter Notebook นี้  คุณจะใช้โค้ดที่เหมือนกับห้องปฏิบัติการครั้งก่อนเป็นส่วนใหญ่ ดังนั้นคุณไม่จำเป็นต้องดูแต่ละบรรทัดอีกครั้ง ส่วนใหญ่จะมีฟังก์ชันสำหรับแบ่งข้อมูลของคุณ รวมถึงฟังก์ชันที่วนซ้ำผ่านรายการของพารามิเตอร์ (เช่น กำลังของพหุนาม พารามิเตอร์การปรับค่า) และพล็อตข้อผิดพลาดในการฝึกอบรมและการตรวจสอบ cruzado สำหรับแต่ละรายการ คุณสามารถสำรวจโค้ดในไฟล์ดังกล่าวเพื่อดูการใช้งาน"
   ]
  },
  {
   "cell_type": "code",
   "execution_count": null,
   "metadata": {},
   "outputs": [],
   "source": [
    "!git clone https://github.com/Smith-WeStrideTH/Advance_Learning_Algorithm_Course.git\n",
    "%cd Advance_Learning_Algorithm_Course/work "
   ]
  },
  {
   "cell_type": "code",
   "execution_count": null,
   "metadata": {
    "id": "xuHD2EOxGRlv"
   },
   "outputs": [],
   "source": [
    "# for building linear regression models\n",
    "from sklearn.linear_model import LinearRegression, Ridge\n",
    "\n",
    "# import lab utility functions in utils.py\n",
    "import utils "
   ]
  },
  {
   "cell_type": "markdown",
   "metadata": {},
   "source": [
    "## แก้ไขความเบี่ยงเบนสูง\n",
    "\n",
    "คุณจะเริ่มมองสิ่งที่ควรลองทำเมื่อโมเดลของคุณกำลัง underfitting หรือไม่สามารถเรียนรู้ข้อมูลได้ดีพอ ในคำอื่นๆ เมื่อข้อผิดพลาดในการฝึกนั้นแย่กว่าระดับพื้นฐานของประสิทธิภาพ"
   ]
  },
  {
   "cell_type": "markdown",
   "metadata": {},
   "source": [
    "### ลองเพิ่มฟีเจอร์พหุนาม\n",
    "\n",
    "คุณเคยเห็นสิ่งนี้ในห้องปฏิบัติการก่อนหน้านี้ การเพิ่มฟีเจอร์พหุนามสามารถช่วยให้โมเดลของคุณเรียนรู้รูปแบบที่ซับซ้อนมากขึ้นในข้อมูลของคุณ นี่คือตัวอย่างของพล็อตที่แสดงให้เห็นว่าข้อผิดพลาดในการฝึกและการตรวจสอบข้ามเปลี่ยนไปอย่างไรเมื่อคุณเพิ่มฟีเจอร์พหุนามมากขึ้น คุณจะใช้ชุดข้อมูลสังเคราะห์สำหรับปัญหาการถดถอยที่มีหนึ่งฟีเจอร์และหนึ่งเป้าหมาย นอกจากนี้ คุณยังจะกำหนดประสิทธิภาพพื้นฐานโดยพลการและรวมไว้ในพล็อตด้วย"
   ]
  },
  {
   "cell_type": "code",
   "execution_count": null,
   "metadata": {},
   "outputs": [],
   "source": [
    "# Split the dataset into train, cv, and test\n",
    "x_train, y_train, x_cv, y_cv, x_test, y_test = utils.prepare_dataset('data/c2w3_lab2_data1.csv')\n",
    "\n",
    "print(f\"the shape of the training set (input) is: {x_train.shape}\")\n",
    "print(f\"the shape of the training set (target) is: {y_train.shape}\\n\")\n",
    "print(f\"the shape of the cross validation set (input) is: {x_cv.shape}\")\n",
    "print(f\"the shape of the cross validation set (target) is: {y_cv.shape}\\n\")\n",
    "\n",
    "# Preview the first 5 rows\n",
    "print(f\"first 5 rows of the training inputs (1 feature):\\n {x_train[:5]}\\n\")\n",
    "\n",
    "# Instantiate the regression model class\n",
    "model = LinearRegression()\n",
    "\n",
    "# Train and plot polynomial regression models\n",
    "utils.train_plot_poly(model, x_train, y_train, x_cv, y_cv, max_degree=10, baseline=400)"
   ]
  },
  {
   "cell_type": "markdown",
   "metadata": {},
   "source": [
    "ดังที่คุณเห็น เมื่อคุณเพิ่มฟีเจอร์พหุนามมากขึ้น โมเดลก็จะพอดีกับข้อมูลการฝึกมากขึ้น ในตัวอย่างนี้ มันทำงานได้ดีกว่าบรรทัดฐาน ในจุดนี้ คุณสามารถบอกได้ว่าโมเดลที่มีดีกรีมากกว่า 4 นั้นมีอคติต่ำเพราะทำงานใกล้เคียงหรือดีกว่าบรรทัดฐาน\n",
    "\n",
    "อย่างไรก็ตาม หากบรรทัดฐานถูกกำหนดให้ต่ำกว่า (เช่น คุณปรึกษาผู้เชี่ยวชาญเกี่ยวกับข้อผิดพลาดที่ยอมรับได้) โมเดลก็ยังคงถือว่ามีอคติสูง คุณสามารถลองใช้วิธีอื่นเพื่อปรับปรุงสิ่งนี้"
   ]
  },
  {
   "cell_type": "code",
   "execution_count": null,
   "metadata": {},
   "outputs": [],
   "source": [
    "# Train and plot polynomial regression models. Bias is defined lower.\n",
    "utils.train_plot_poly(model, x_train, y_train, x_cv, y_cv, max_degree=10, baseline=250)"
   ]
  },
  {
   "cell_type": "markdown",
   "metadata": {},
   "source": [
    "### ลองรับฟีเจอร์เพิ่มเติม\n",
    "\n",
    "อีกสิ่งหนึ่งที่คุณสามารถลองทำได้คือการรับฟีเจอร์อื่น ๆ สมมติว่าหลังจากที่คุณได้รับผลลัพธ์ข้างต้น คุณตัดสินใจที่จะเปิดตัวแคมเปญรวบรวมข้อมูลอื่นที่จับภาพฟีเจอร์อื่น ๆ ตอนนี้ชุดข้อมูลของคุณจะมี 2 คอลัมน์สำหรับฟีเจอร์อินพุตดังที่แสดงด้านล่าง"
   ]
  },
  {
   "cell_type": "code",
   "execution_count": null,
   "metadata": {},
   "outputs": [],
   "source": [
    "x_train, y_train, x_cv, y_cv, x_test, y_test = utils.prepare_dataset('data/c2w3_lab2_data2.csv')\n",
    "\n",
    "print(f\"the shape of the training set (input) is: {x_train.shape}\")\n",
    "print(f\"the shape of the training set (target) is: {y_train.shape}\\n\")\n",
    "print(f\"the shape of the cross validation set (input) is: {x_cv.shape}\")\n",
    "print(f\"the shape of the cross validation set (target) is: {y_cv.shape}\\n\")\n",
    "\n",
    "# Preview the first 5 rows\n",
    "print(f\"first 5 rows of the training inputs (2 features):\\n {x_train[:5]}\\n\")"
   ]
  },
  {
   "cell_type": "markdown",
   "metadata": {},
   "source": [
    "ตอนนี้ดูว่าสิ่งนี้ทำอะไรกับกระบวนการฝึกอบรมแบบเดียวกับก่อนหน้านี้ คุณจะสังเกตเห็นว่าข้อผิดพลาดในการฝึกอบรมตอนนี้ใกล้เคียงกับ (หรือดีกว่า) เส้นฐาน"
   ]
  },
  {
   "cell_type": "code",
   "execution_count": null,
   "metadata": {},
   "outputs": [],
   "source": [
    "# Instantiate the model class\n",
    "model = LinearRegression()\n",
    "\n",
    "# Train and plot polynomial regression models. Dataset used has two features.\n",
    "utils.train_plot_poly(model, x_train, y_train, x_cv, y_cv, max_degree=6, baseline=250)"
   ]
  },
  {
   "cell_type": "markdown",
   "metadata": {},
   "source": [
    "### ลองลดค่าพารามิเตอร์การป regularization\n",
    "\n",
    "ณ จุดนี้ คุณอาจต้องการนำการป regularization มาใช้เพื่อหลีกเลี่ยงการโอเวอร์ฟิต สิ่งหนึ่งที่ควรระวังคือ คุณอาจทำให้โมเดลของคุณอันเดอร์ฟิตได้หากตั้งค่าพารามิเตอร์การป regularization สูงเกินไป เซลล์ด้านล่างนี้จะฝึกโมเดลพหุนามดีกรีที่ 4 โดยใช้คลาส [Ridge](https://scikit-learn.org/stable/modules/generated/sklearn.linear_model.Ridge.html#sklearn.linear_model.Ridge) ซึ่งอนุญาตให้คุณตั้งค่าพารามิเตอร์การป regularization (เช่น แลมบ์ดา หรือ $\\lambda$) คุณจะลองหลายค่าและเปรียบเทียบผลลัพธ์"
   ]
  },
  {
   "cell_type": "code",
   "execution_count": null,
   "metadata": {},
   "outputs": [],
   "source": [
    "# Define lambdas to plot\n",
    "reg_params = [10, 5, 2, 1, 0.5, 0.2, 0.1]\n",
    "\n",
    "# Define degree of polynomial and train for each value of lambda\n",
    "utils.train_plot_reg_params(reg_params, x_train, y_train, x_cv, y_cv, degree= 4, baseline=250)"
   ]
  },
  {
   "cell_type": "markdown",
   "metadata": {},
   "source": [
    "พล็อตผลลัพธ์แสดงค่า $\\lambda$ คือ `10` เริ่มต้นที่ 10 และอย่างที่คุณเห็น ข้อผิดพลาดในการฝึกนั้นแย่กว่าเส้นฐานในจุดนั้น ซึ่งหมายความว่ามันกำลังลงโทษพารามิเตอร์ `w` อย่างมาก และทำให้โมเดลไม่สามารถเรียนรู้รูปแบบที่ซับซ้อนมากขึ้นในข้อมูลของคุณ เมื่อคุณลดค่า  $\\lambda$, โมเดลจะคลายข้อจำกัดนี้และข้อผิดพลาดในการฝึกสามารถเข้าใกล้ประสิทธิภาพพื้นฐานได้"
   ]
  },
  {
   "cell_type": "markdown",
   "metadata": {},
   "source": [
    "## การแก้ไขความแปรปรวนสูง\n",
    "\n",
    "คุณจะได้ดูสิ่งบางอย่างที่ควรลองเมื่อโมเดลของคุณ Overfit ชุดฝึก ข้อมูลหลักคือการมีโมเดลที่ทั่วไปกับตัวอย่างใหม่ๆ ดังนั้นคุณจึงต้องการลดข้อผิดพลาดของการตรวจสอบข้าม"
   ]
  },
  {
   "cell_type": "markdown",
   "metadata": {},
   "source": [
    "### ลองเพิ่มพารามิเตอร์การปรับปรุง\n",
    "\n",
    "เมื่อเทียบกับแบบฝึกหัดก่อนหน้านี้ การตั้งค่าค่าพารามิเตอร์การปรับปรุงที่มีค่าน้อยมากจะทำให้โมเดลมีความเอนเอียงต่ำ แต่ไม่อาจทำอะไรมากนักเพื่อปรับปรุงความแปรปรวนได้ ดังที่แสดงด้านล่าง คุณสามารถปรับปรุงข้อผิดพลาดการตรวจสอบแบบไขว้ของคุณได้โดยการเพิ่มค่าของ $\\lambda$."
   ]
  },
  {
   "cell_type": "code",
   "execution_count": null,
   "metadata": {},
   "outputs": [],
   "source": [
    "# Define lambdas to plot\n",
    "reg_params = [0.01, 0.02, 0.05, 0.1, 0.2, 0.5, 1]\n",
    "\n",
    "# Define degree of polynomial and train for each value of lambda\n",
    "utils.train_plot_reg_params(reg_params, x_train, y_train, x_cv, y_cv, degree= 4, baseline=250)"
   ]
  },
  {
   "cell_type": "markdown",
   "metadata": {},
   "source": [
    "### ลองใช้ชุดคุณลักษณะที่เล็กลง\n",
    "\n",
    "คุณเคยเห็นแล้วในห้องปฏิบัติการที่แล้วว่าการมีเทอมพหุนามมากเกินไปอาจส่งผลให้เกิดการโอเวอร์ฟิต คุณสามารถลดจำนวนเทอมดังกล่าวและดูว่าคุณจะได้สมดุลที่ดีที่สุดระหว่างการฝึกและการตรวจสอบแบบข้ามหรือไม่ อีกสถานการณ์หนึ่งที่การลดจำนวนคุณลักษณะจะเป็นประโยชน์คือเมื่อคุณมีคุณลักษณะที่ไม่เกี่ยวข้องในข้อมูลของคุณ ตัวอย่างเช่น รหัสผู้ป่วยที่โรงพยาบาลมอบให้จะไม่ช่วยในการวินิจฉัยเนื้องอก ดังนั้นคุณควรตรวจสอบให้แน่ใจว่าได้ลบออกจากข้อมูลการฝึกอบรมของคุณ\n",
    "\n",
    "เพื่อแสดงให้เห็นว่าการลบคุณลักษณะสามารถปรับปรุงประสิทธิภาพได้ คุณจะทำการถดถอยพหุนามสำหรับชุดข้อมูล 2 ชุด: ชุดข้อมูลเดียวกับที่คุณใช้ข้างต้น (2 คุณลักษณะ) และอีกชุดที่มีคอลัมน์ ID แบบสุ่ม (3 คุณลักษณะ) คุณสามารถดูตัวอย่างเหล่านี้ได้โดยใช้เซลล์ด้านล่าง สังเกตว่า 2 คอลัมน์เหมือนกันและเพิ่มคอลัมน์ที่ 3 เพื่อรวมตัวเลขสุ่ม"
   ]
  },
  {
   "cell_type": "code",
   "execution_count": null,
   "metadata": {},
   "outputs": [],
   "source": [
    "# Prepare dataset with randomID feature\n",
    "x_train, y_train, x_cv, y_cv, x_test, y_test = utils.prepare_dataset('data/c2w3_lab2_data2.csv')\n",
    "\n",
    "# Preview the first 5 rows\n",
    "print(f\"first 5 rows of the training set with 2 features:\\n {x_train[:5]}\\n\")\n",
    "\n",
    "# Prepare dataset with randomID feature\n",
    "x_train, y_train, x_cv, y_cv, x_test, y_test = utils.prepare_dataset('data/c2w3_lab2_data3.csv')\n",
    "\n",
    "# Preview the first 5 rows\n",
    "print(f\"first 5 rows of the training set with 3 features (1st column is a random ID):\\n {x_train[:5]}\\n\")"
   ]
  },
  {
   "cell_type": "markdown",
   "metadata": {},
   "source": [
    "ตอนนี้คุณจะฝึกโมเดลและพล็อตผลลัพธ์ เส้นทึบในพล็อตแสดงข้อผิดพลาดสำหรับข้อมูลที่มีคุณลักษณะ 2 ขณะที่เส้นประแสดงข้อผิดพลาดสำหรับชุดข้อมูลที่มีคุณลักษณะ 3 อย่างที่คุณเห็นชุดข้อมูลที่มีคุณลักษณะ 3 ตัวมีข้อผิดพลาดในการตรวจสอบข้ามข้อมูลสูงกว่า โดยเฉพาะอย่างยิ่งเมื่อคุณแนะนำเทอมพหุนามมากขึ้น เนื่องจากโมเดลกำลังพยายามเรียนรู้จาก ID แบบสุ่มแม้ว่าจะไม่มีส่วนเกี่ยวข้องกับเป้าหมายก็ตาม\n",
    "\n",
    "อีกวิธีหนึ่งในการมองก็คือการสังเกตจุดที่ degree=4 คุณจะสังเกตเห็นว่าแม้ว่า *ข้อผิดพลาดในการฝึก* จะต่ำกว่าด้วยคุณลักษณะ 3 ตัว แต่  *ช่องว่างระหว่างข้อผิดพลาดในการฝึกและข้อผิดพลาดในการตรวจสอบข้ามข้อมูล* กว้างกว่ามากเมื่อคุณใช้คุณลักษณะเพียง 2 ตัว สิ่งนี้ควรเตือนคุณด้วยว่าโมเดลกำลัง overfitting"
   ]
  },
  {
   "cell_type": "code",
   "execution_count": null,
   "metadata": {},
   "outputs": [],
   "source": [
    "# Define the model\n",
    "model = LinearRegression()\n",
    "\n",
    "# Define properties of the 2 datasets\n",
    "file1 = {'filename':'data/c2w3_lab2_data3.csv', 'label': '3 features', 'linestyle': 'dotted'}\n",
    "file2 = {'filename':'data/c2w3_lab2_data2.csv', 'label': '2 features', 'linestyle': 'solid'}\n",
    "files = [file1, file2]\n",
    "\n",
    "# Train and plot for each dataset\n",
    "utils.train_plot_diff_datasets(model, files, max_degree=4, baseline=250)"
   ]
  },
  {
   "cell_type": "markdown",
   "metadata": {},
   "source": [
    "### Get more training examples (เพิ่มข้อมูลฝึก)\n",
    "\n",
    "เพื่อลดข้อผิดพลาดในการตรวจสอบความถูกต้องข้ามกลุ่ม คุณสามารถลองหาตัวอย่างเพิ่มเติม ในเซลล์ด้านล่าง คุณจะฝึกโมเดลพหุนามระดับ 4 จากนั้นพล็อต เส้นโค้งการเรียนรู้ ของโมเดลของคุณเพื่อดูว่าข้อผิดพลาดทำงานอย่างไรเมื่อคุณได้รับตัวอย่างเพิ่มเติม"
   ]
  },
  {
   "cell_type": "code",
   "execution_count": null,
   "metadata": {},
   "outputs": [],
   "source": [
    "# Prepare the dataset\n",
    "x_train, y_train, x_cv, y_cv, x_test, y_test = utils.prepare_dataset('data/c2w3_lab2_data4.csv')\n",
    "print(f\"the shape of the entire training set (input) is: {x_train.shape}\")\n",
    "print(f\"the shape of the entire training set (target) is: {y_train.shape}\\n\")\n",
    "print(f\"the shape of the entire cross validation set (input) is: {x_cv.shape}\")\n",
    "print(f\"the shape of the entire cross validation set (target) is: {y_cv.shape}\\n\")\n",
    "\n",
    "# Instantiate the model class\n",
    "model = LinearRegression()\n",
    "\n",
    "# Define the degree of polynomial and train the model using subsets of the dataset.\n",
    "utils.train_plot_learning_curve(model, x_train, y_train, x_cv, y_cv, degree= 4, baseline=250)"
   ]
  },
  {
   "cell_type": "markdown",
   "metadata": {},
   "source": [
    "จากผลลัพธ์ แสดงให้เห็นว่าข้อผิดพลาดจากการตรวจสอบข้ามข้อมูลเริ่มเข้าใกล้ข้อผิดพลาดในการฝึกเมื่อคุณเพิ่มขนาดชุดข้อมูล อีกหนึ่งข้อมูลเชิงลึกที่คุณสามารถรับได้จากสิ่งนี้คือการเพิ่มตัวอย่างมากขึ้นอาจไม่สามารถแก้ไขปัญหาอคติสูงได้ เนื่องจากข้อผิดพลาดในการฝึกยังคงค่อนข้างราบแม้ว่าชุดข้อมูลจะเพิ่มขึ้นก็ตาม"
   ]
  },
  {
   "cell_type": "markdown",
   "metadata": {},
   "source": [
    "## สรุป\n",
    "\n",
    "ในห้องปฏิบัติการนี้ คุณได้ฝึกฝนวิธีการแก้ไขปัญหาอคติสูงและความแปรปรวนสูงในอัลกอริทึมการเรียนรู้ของคุณ โดยการเรียนรู้วิธีการสังเกตปัญหาเหล่านี้ คุณได้ฝึกสัญชาตญาณเกี่ยวกับสิ่งที่ควรลองทำต่อไปเมื่อพัฒนาโมเดลการเรียนรู้ของเครื่องของคุณ ในบทเรียนต่อไป คุณจะศึกษาขั้นตอนการพัฒนาการเรียนรู้ของเครื่องอย่างลึกซึ้งยิ่งขึ้นและสำรวจแง่มุมอื่นๆ ที่คุณต้องคำนึงถึงเมื่อทำงานในโครงการของคุณ พบกันใหม่ที่นั่น!"
   ]
  },
  {
   "cell_type": "markdown",
   "metadata": {},
   "source": []
  }
 ],
 "metadata": {
  "colab": {
   "collapsed_sections": [],
   "provenance": []
  },
  "kernelspec": {
   "display_name": "Python 3",
   "language": "python",
   "name": "python3"
  },
  "language_info": {
   "codemirror_mode": {
    "name": "ipython",
    "version": 3
   },
   "file_extension": ".py",
   "mimetype": "text/x-python",
   "name": "python",
   "nbconvert_exporter": "python",
   "pygments_lexer": "ipython3",
   "version": "3.7.6"
  }
 },
 "nbformat": 4,
 "nbformat_minor": 1
}
