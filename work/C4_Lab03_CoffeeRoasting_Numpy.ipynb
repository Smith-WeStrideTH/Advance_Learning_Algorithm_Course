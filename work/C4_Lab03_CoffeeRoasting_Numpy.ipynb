{
 "cells": [
  {
   "cell_type": "markdown",
   "metadata": {
    "tags": []
   },
   "source": [
    "#  Lab เสริม - เครือข่ายประสาทเทียมแบบง่าย\n",
    "\n",
    "ใน Lab นี้ เราจะสร้างเครือข่ายประสาทเทียมขนาดเล็กโดยใช้ Numpy มันจะเป็นเครือข่าย \"การคั่วกาแฟ\" เดียวกันกับที่คุณได้พัฒนาใน Tensorflow\n",
    "   <center> <img  src=\"./images/C2_W1_CoffeeRoasting.png\" width=\"400\" />   <center/>\n"
   ]
  },
  {
   "cell_type": "code",
   "execution_count": null,
   "metadata": {},
   "outputs": [],
   "source": [
    "import numpy as np\n",
    "import matplotlib.pyplot as plt\n",
    "plt.style.use('./deeplearning.mplstyle')\n",
    "import tensorflow as tf\n",
    "from lab_utils_common import dlc, sigmoid\n",
    "from lab_coffee_utils import load_coffee_data, plt_roast, plt_prob, plt_layer, plt_network, plt_output_unit\n",
    "import logging\n",
    "logging.getLogger(\"tensorflow\").setLevel(logging.ERROR)\n",
    "tf.autograph.set_verbosity(0)"
   ]
  },
  {
   "cell_type": "markdown",
   "metadata": {},
   "source": [
    "## ชุดข้อมูล\n",
    "นี่เป็นชุดข้อมูลเดียวกับในห้องปฏิบัติการก่อนหน้านี้"
   ]
  },
  {
   "cell_type": "code",
   "execution_count": null,
   "metadata": {},
   "outputs": [],
   "source": [
    "X,Y = load_coffee_data();\n",
    "print(X.shape, Y.shape)"
   ]
  },
  {
   "cell_type": "markdown",
   "metadata": {},
   "source": [
    "มาพล็อตข้อมูลการคั่วกาแฟด้านล่างกันครับ คุณสมบัติทั้งสองคือ อุณหภูมิเป็นองศาเซลเซียสและระยะเวลาเป็นนาที. [Coffee Roasting at Home](https://www.merchantsofgreencoffee.com/how-to-roast-green-coffee-in-your-oven/) แนะนำว่าระยะเวลาควรอยู่ระหว่าง 12 ถึง 15 นาที ในขณะที่อุณหภูมิควรอยู่ระหว่าง 175 ถึง 260 องศาเซลเซียส แน่นอนว่าเมื่ออุณหภูมิสูงขึ้น ระยะเวลาก็ควรลดลง"
   ]
  },
  {
   "cell_type": "code",
   "execution_count": null,
   "metadata": {},
   "outputs": [],
   "source": [
    "plt_roast(X,Y)"
   ]
  },
  {
   "cell_type": "markdown",
   "metadata": {},
   "source": [
    "### Normalize Data: \"ปรับมาตรฐานข้อมูล\" หรือ \"มาตรฐานข้อมูล\"\n",
    "เพื่อให้สอดคล้องกับการทดลองก่อนหน้า เราจะทำการปรับมาตรฐานข้อมูล กรุณาอ้างอิงการทดลองก่อนหน้าสำหรับรายละเอียดเพิ่มเติม"
   ]
  },
  {
   "cell_type": "code",
   "execution_count": null,
   "metadata": {},
   "outputs": [],
   "source": [
    "print(f\"Temperature Max, Min pre normalization: {np.max(X[:,0]):0.2f}, {np.min(X[:,0]):0.2f}\")\n",
    "print(f\"Duration    Max, Min pre normalization: {np.max(X[:,1]):0.2f}, {np.min(X[:,1]):0.2f}\")\n",
    "norm_l = tf.keras.layers.Normalization(axis=-1)\n",
    "norm_l.adapt(X)  # learns mean, variance\n",
    "Xn = norm_l(X)\n",
    "print(f\"Temperature Max, Min post normalization: {np.max(Xn[:,0]):0.2f}, {np.min(Xn[:,0]):0.2f}\")\n",
    "print(f\"Duration    Max, Min post normalization: {np.max(Xn[:,1]):0.2f}, {np.min(Xn[:,1]):0.2f}\")"
   ]
  },
  {
   "cell_type": "markdown",
   "metadata": {},
   "source": [
    "## Numpy Model (Forward Prop in NumPy)\n",
    "<center> <img  src=\"./images/C2_W1_RoastingNetwork.PNG\" width=\"200\" />   <center/>  \n",
    "มาสร้าง \"เครือข่ายการคั่วกาแฟ\" ตามที่ได้กล่าวถึงในบรรยายกันเถอะ เครือข่ายนี้จะมีสองชั้น โดยใช้ฟังก์ชันการกระตุ้นซิกมอยด์ (sigmoid activations)"
   ]
  },
  {
   "cell_type": "markdown",
   "metadata": {
    "tags": []
   },
   "source": [
    "ตามที่อธิบายไว้ในบรรยาย คุณสามารถสร้างเลเยอร์หนาแน่นของคุณเองโดยใช้ NumPy จากนั้นสามารถนำมาใช้สร้างเครือข่ายประสาทเทียมหลายชั้นได้\n",
    "\n",
    "<img src=\"images/C2_W1_dense3.png\" width=\"600\" height=\"450\">\n",
    "\n",
    "ในห้องปฏิบัติการเสริมครั้งแรก คุณได้สร้างเซลล์ประสาทเทียม (neuron) ใน NumPy และ TensorFlow และสังเกตเห็นความคล้ายคลึงกัน ชั้นหนึ่งประกอบด้วยเซลล์ประสาทเทียม/ยูนิตหลายตัว ตามที่อธิบายไว้ในบรรยาย สามารถใช้ลูป for เพื่อเยี่ยมชมแต่ละยูนิต  (`j`) ในชั้นและทำผลคูณดอทของน้ำหนักสำหรับยูนิตนั้น(`W[:,j]`) และบวกไบแอสสำหรับยูนิต (`b[j]`) เพื่อสร้าง `z`. จากนั้นสามารถนำฟังก์ชันการกระตุ้น `g(z)` ไปใช้กับผลลัพธ์นั้นได้ มาลองสร้างซับรูทีน \"ชั้นหนาแน่น\" ด้านล่างกัน\"\n"
   ]
  },
  {
   "cell_type": "markdown",
   "metadata": {},
   "source": [
    "ขั้นแรก คุณจะต้องนิยามฟังก์ชันการกระตุ้น (activation function) `g()`.  โดยคุณจะใช้ฟังก์ชัน  `sigmoid()` ซึ่งมีการเขียนไว้ให้คุณแล้วภายในไฟล์ `lab_utils_common.py` นอกโน้ตบุ๊คเล่ม์นี้"
   ]
  },
  {
   "cell_type": "code",
   "execution_count": null,
   "metadata": {},
   "outputs": [],
   "source": [
    "# Define the activation function\n",
    "g = sigmoid"
   ]
  },
  {
   "cell_type": "markdown",
   "metadata": {},
   "source": [
    "ต่อไป คุณจะกำหนดฟังก์ชัน `my_dense()` ซึ่งคำนวณการกระตุ้นของเลเยอร์หนาแน่น (dense layer)."
   ]
  },
  {
   "cell_type": "code",
   "execution_count": null,
   "metadata": {
    "tags": []
   },
   "outputs": [],
   "source": [
    "def my_dense(a_in, W, b):\n",
    "    \"\"\"\n",
    "    Computes dense layer\n",
    "    Args:\n",
    "      a_in (ndarray (n, )) : Data, 1 example \n",
    "      W    (ndarray (n,j)) : Weight matrix, n features per unit, j units\n",
    "      b    (ndarray (j, )) : bias vector, j units  \n",
    "    Returns\n",
    "      a_out (ndarray (j,))  : j units|\n",
    "    \"\"\"\n",
    "    units = W.shape[1]\n",
    "    a_out = np.zeros(units)\n",
    "    for j in range(units):               \n",
    "        w = W[:,j]                                    \n",
    "        z = np.dot(w, a_in) + b[j]         \n",
    "        a_out[j] = g(z)               \n",
    "    return(a_out)"
   ]
  },
  {
   "cell_type": "markdown",
   "metadata": {},
   "source": [
    "*\"หมายเหตุ: คุณสามารถปรับใช้ฟังก์ชันข้างต้นเพื่อยอมรับ `g` เป็นพารามิเตอร์เพิ่มเติม (เช่น `my_dense(a_in, W, b, g)`ได้) อย่างไรก็ตาม ในโน้ตบุ๊กนี้ คุณจะใช้ฟังก์ชันการกระตุ้นชนิดเดียว (เช่น sigmoid) ดังนั้นจึงไม่จำเป็นต้องกำหนดเป็นค่าคงที่และกำหนดไว้ภายนอกฟังก์ชัน นั่นคือสิ่งที่คุณทำในโค้ดข้างต้น และทำให้การเรียกฟังก์ชันในเซลล์โค้ดถัดไปง่ายขึ้น เพียงแค่จำไว้ว่าการส่งผ่านเป็นพารามิเตอร์ก็เป็นการใช้งานที่ยอมรับได้เช่นกัน คุณจะเห็นในงานมอบหมายสัปดาห์นี้\".*"
   ]
  },
  {
   "cell_type": "markdown",
   "metadata": {},
   "source": [
    "\"เซลล์ต่อไปนี้สร้างเครือข่ายประสาทเทียมสองชั้นโดยใช้ซับรูทีน `my_dense` ด้านบน"
   ]
  },
  {
   "cell_type": "code",
   "execution_count": null,
   "metadata": {},
   "outputs": [],
   "source": [
    "def my_sequential(x, W1, b1, W2, b2):\n",
    "    a1 = my_dense(x,  W1, b1)\n",
    "    a2 = my_dense(a1, W2, b2)\n",
    "    return(a2)"
   ]
  },
  {
   "cell_type": "markdown",
   "metadata": {},
   "source": [
    "เราสามารถคัดลอกน้ำหนักและความเอนเอียงที่ได้รับการฝึกอบรมจากห้องปฏิบัติการก่อนหน้านี้ใน TensorFlow"
   ]
  },
  {
   "cell_type": "code",
   "execution_count": null,
   "metadata": {},
   "outputs": [],
   "source": [
    "W1_tmp = np.array( [[-8.93,  0.29, 12.9 ], [-0.1,  -7.32, 10.81]] )\n",
    "b1_tmp = np.array( [-9.82, -9.28,  0.96] )\n",
    "W2_tmp = np.array( [[-31.18], [-27.59], [-32.56]] )\n",
    "b2_tmp = np.array( [15.41] )"
   ]
  },
  {
   "cell_type": "markdown",
   "metadata": {},
   "source": [
    "### Predictions\n",
    "<img align=\"left\" src=\"./images/C2_W1_RoastingDecision.PNG\"     style=\" width:380px; padding: 10px 20px; \" >\n",
    "\n",
    "การใช้โมเดลที่ฝึกแล้วเพื่อทำนายผล\n",
    "เมื่อคุณมีโมเดลที่ได้รับการฝึกแล้ว คุณสามารถใช้โมเดลนั้นเพื่อทำนายผลได้\n",
    "\n",
    "โปรดจำไว้ว่าผลลัพธ์ของโมเดลของเราคือความน่าจะเป็น\n",
    "\n",
    "ในกรณีนี้ ความน่าจะเป็นของการคั่วกาแฟที่ดี\n",
    "\n",
    "เพื่อตัดสินใจ คุณต้องนำความน่าจะเป็นไปใช้กับเกณฑ์ (threshold)\n",
    "\n",
    "ในกรณีนี้ เราจะใช้ 0.5"
   ]
  },
  {
   "cell_type": "markdown",
   "metadata": {},
   "source": [
    "เรามาเริ่มเขียนโปรแกรมแบบ Routine ที่คล้ายกับ `model.predict()`. ของ TensorFlow กันก่อน โปรแกรมนี้จะรับเมทริกซ์ $X$ ที่มีตัวอย่างทั้งหมด $m$ แถว และทำการทำนายโดยการรันโมเดล"
   ]
  },
  {
   "cell_type": "code",
   "execution_count": null,
   "metadata": {},
   "outputs": [],
   "source": [
    "def my_predict(X, W1, b1, W2, b2):\n",
    "    m = X.shape[0]\n",
    "    p = np.zeros((m,1))\n",
    "    for i in range(m):\n",
    "        p[i,0] = my_sequential(X[i], W1, b1, W2, b2)\n",
    "    return(p)"
   ]
  },
  {
   "cell_type": "markdown",
   "metadata": {},
   "source": [
    "เราสามารถลองใช้กิจวัตรนี้กับตัวอย่างสองตัวอย่างได้ดังนี้:"
   ]
  },
  {
   "cell_type": "code",
   "execution_count": null,
   "metadata": {},
   "outputs": [],
   "source": [
    "X_tst = np.array([\n",
    "    [200,13.9],  # postive example\n",
    "    [200,17]])   # negative example\n",
    "X_tstn = norm_l(X_tst)  # remember to normalize\n",
    "predictions = my_predict(X_tstn, W1_tmp, b1_tmp, W2_tmp, b2_tmp)"
   ]
  },
  {
   "cell_type": "markdown",
   "metadata": {},
   "source": [
    "เพื่อแปลงความน่าจะเป็นให้เป็นการตัดสินใจ เราใช้เกณฑ์ (threshold):"
   ]
  },
  {
   "cell_type": "code",
   "execution_count": null,
   "metadata": {},
   "outputs": [],
   "source": [
    "yhat = np.zeros_like(predictions)\n",
    "for i in range(len(predictions)):\n",
    "    if predictions[i] >= 0.5:\n",
    "        yhat[i] = 1\n",
    "    else:\n",
    "        yhat[i] = 0\n",
    "print(f\"decisions = \\n{yhat}\")"
   ]
  },
  {
   "cell_type": "markdown",
   "metadata": {},
   "source": [
    "สามารถทำได้อย่างรวบรัดกว่านี้:\n"
   ]
  },
  {
   "cell_type": "code",
   "execution_count": null,
   "metadata": {},
   "outputs": [],
   "source": [
    "yhat = (predictions >= 0.5).astype(int)\n",
    "print(f\"decisions = \\n{yhat}\")"
   ]
  },
  {
   "cell_type": "markdown",
   "metadata": {},
   "source": [
    "## Network function"
   ]
  },
  {
   "cell_type": "markdown",
   "metadata": {},
   "source": [
    "กราฟนี้แสดงการทำงานของเครือข่ายทั้งหมดและเหมือนกับผลลัพธ์ของ TensorFlow จากการทดลองก่อนหน้า\n",
    "\n",
    "กราฟด้านซ้ายคือผลลัพธ์ดิบของเลเยอร์สุดท้ายที่แสดงโดยการแรเงาสีฟ้า ซึ่งทับซ้อนกับข้อมูลการฝึกที่แสดงโดย X และ O\n",
    "\n",
    "กราฟด้านขวาคือผลลัพธ์ของเครือข่ายหลังจากผ่านเกณฑ์การตัดสินใจ X และ O ที่นี่สอดคล้องกับการตัดสินใจที่เครือข่ายทำ"
   ]
  },
  {
   "cell_type": "code",
   "execution_count": null,
   "metadata": {
    "tags": []
   },
   "outputs": [],
   "source": [
    "netf= lambda x : my_predict(norm_l(x),W1_tmp, b1_tmp, W2_tmp, b2_tmp)\n",
    "plt_network(X,Y,netf)"
   ]
  },
  {
   "cell_type": "markdown",
   "metadata": {},
   "source": [
    "## ขอแสดงความยินดี!\n",
    "\n",
    "คุณได้สร้างเครือข่ายประสาทเทียมขนาดเล็กใน NumPy แล้ว\n",
    "\n",
    "หวังว่าห้องปฏิบัติการนี้จะเผยให้เห็นฟังก์ชันที่ค่อนข้างง่ายและคุ้นเคยซึ่งประกอบเป็นชั้นในเครือข่ายประสาทเทียม"
   ]
  },
  {
   "cell_type": "markdown",
   "metadata": {},
   "source": []
  }
 ],
 "metadata": {
  "kernelspec": {
   "display_name": "Python 3",
   "language": "python",
   "name": "python3"
  },
  "language_info": {
   "codemirror_mode": {
    "name": "ipython",
    "version": 3
   },
   "file_extension": ".py",
   "mimetype": "text/x-python",
   "name": "python",
   "nbconvert_exporter": "python",
   "pygments_lexer": "ipython3",
   "version": "3.7.6"
  }
 },
 "nbformat": 4,
 "nbformat_minor": 4
}
